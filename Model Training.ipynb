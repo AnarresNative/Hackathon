{
 "cells": [
  {
   "cell_type": "markdown",
   "metadata": {},
   "source": [
    "Downloaded gunshot data and non gunshot data at:\n",
    "Path to dataset files: /home/anarres-native/.cache/kagglehub/datasets/pranked03/urbansound8k-mel-spectrogram-images/versions/2\n",
    "Path to dataset files: /home/anarres-native/.cache/kagglehub/datasets/emrahaydemr/gunshot-audio-dataset/versions/1"
   ]
  },
  {
   "cell_type": "markdown",
   "metadata": {},
   "source": [
    "Will be using this guys respoistory for inspiration, as seems to be pretty well documented and has documented which process generated the best  model: https://github.com/mariamkhmahran/gunshot-detection-system/blob/main/data-description.csv"
   ]
  },
  {
   "cell_type": "code",
   "execution_count": null,
   "metadata": {},
   "outputs": [],
   "source": []
  },
  {
   "cell_type": "markdown",
   "metadata": {},
   "source": []
  }
 ],
 "metadata": {
  "kernelspec": {
   "display_name": "venv",
   "language": "python",
   "name": "python3"
  },
  "language_info": {
   "codemirror_mode": {
    "name": "ipython",
    "version": 3
   },
   "file_extension": ".py",
   "mimetype": "text/x-python",
   "name": "python",
   "nbconvert_exporter": "python",
   "pygments_lexer": "ipython3",
   "version": "3.12.3"
  }
 },
 "nbformat": 4,
 "nbformat_minor": 2
}
