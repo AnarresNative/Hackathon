{
 "cells": [
  {
   "cell_type": "markdown",
   "metadata": {},
   "source": [
    "Downloaded gunshot data and non gunshot data at:\n",
    "Path to dataset files: /home/anarres-native/.cache/kagglehub/datasets/pranked03/urbansound8k-mel-spectrogram-images/versions/2\n",
    "Path to dataset files: /home/anarres-native/.cache/kagglehub/datasets/emrahaydemr/gunshot-audio-dataset/versions/1"
   ]
  },
  {
   "cell_type": "markdown",
   "metadata": {},
   "source": [
    "Will be using this guys respoistory for inspiration, as seems to be pretty well documented and has documented which process generated the best  model: https://github.com/mariamkhmahran/gunshot-detection-system/blob/main/data-description.csv"
   ]
  },
  {
   "cell_type": "code",
   "execution_count": 6,
   "metadata": {},
   "outputs": [],
   "source": [
    "import librosa\n",
    "import numpy as np\n",
    "from numpy import nan\n",
    "import pandas as pd\n",
    "import matplotlib\n",
    "from matplotlib import pyplot as plt\n",
    "import seaborn as sns\n",
    "import math\n",
    "from PIL import Image\n",
    "import os\n",
    "\n",
    "import warnings\n",
    "warnings.filterwarnings('ignore')\n",
    "matplotlib.use(\"Agg\")\n",
    "%matplotlib inline"
   ]
  },
  {
   "cell_type": "code",
   "execution_count": 7,
   "metadata": {},
   "outputs": [],
   "source": [
    "IMG_DIR = \"./mel-specs\"\n",
    "VAL_DIR = \"./mel-specs-val\"\n",
    "TEST_DIR = \"./mel-specs-test\"\n",
    "\n",
    "SAMPLE_RATE = 22050 # Justification for this value is provided later"
   ]
  },
  {
   "cell_type": "code",
   "execution_count": 9,
   "metadata": {},
   "outputs": [],
   "source": [
    "\n",
    "def load_x_and_y_helper(path):\n",
    "    x = []\n",
    "    y = []\n",
    "    \n",
    "    files = librosa.util.find_files(path, ext=['wav'])\n",
    "    files = np.asarray(files)\n",
    "    for file in files:\n",
    "        if '.wav' in file:\n",
    "            name = file.split('/').pop()\n",
    "            label = name.split('.')[0].split('-')[1];\n",
    "            wave_arr, sr = librosa.load(file, sr = SAMPLE_RATE, mono = True)\n",
    "            x = x + [wave_arr]\n",
    "            y = y + [label]\n",
    "    print('done!')\n",
    "    return np.array(x), np.array(y, dtype=int)\n",
    "\n",
    "\n",
    "def load_x_and_ys():\n",
    "    print('collecting training set...', end = \"\")\n",
    "    X_train, y_train = load_x_and_y_helper('./processed_data/train')\n",
    "    print('collecting validation set...', end = \"\")\n",
    "    X_val, y_val = load_x_and_y_helper('./processed_data/val')\n",
    "    print('collecting test set...', end = \"\")\n",
    "    X_test, y_test = load_x_and_y_helper('./processed_data/test')\n",
    "    \n",
    "    return X_train, y_train, X_val, y_val, X_test, y_test"
   ]
  },
  {
   "cell_type": "code",
   "execution_count": 10,
   "metadata": {},
   "outputs": [
    {
     "name": "stdout",
     "output_type": "stream",
     "text": [
      "collecting training set...done!\n",
      "collecting validation set...done!\n",
      "collecting test set...done!\n"
     ]
    }
   ],
   "source": [
    "X_train, y_train, X_val, y_val, X_test, y_test = load_x_and_ys()"
   ]
  },
  {
   "cell_type": "code",
   "execution_count": 11,
   "metadata": {},
   "outputs": [
    {
     "data": {
      "text/plain": [
       "((0,), (0,))"
      ]
     },
     "execution_count": 11,
     "metadata": {},
     "output_type": "execute_result"
    }
   ],
   "source": [
    "X_train.shape, y_train.shape"
   ]
  },
  {
   "cell_type": "code",
   "execution_count": 12,
   "metadata": {},
   "outputs": [
    {
     "name": "stdout",
     "output_type": "stream",
     "text": [
      "Downloading from https://www.kaggle.com/api/v1/datasets/download/chrisfilo/urbansound8k?dataset_version_number=1...\n"
     ]
    },
    {
     "name": "stderr",
     "output_type": "stream",
     "text": [
      "100%|██████████| 5.61G/5.61G [11:34<00:00, 8.68MB/s]"
     ]
    },
    {
     "name": "stdout",
     "output_type": "stream",
     "text": [
      "Extracting files...\n"
     ]
    },
    {
     "name": "stderr",
     "output_type": "stream",
     "text": [
      "\n"
     ]
    },
    {
     "name": "stdout",
     "output_type": "stream",
     "text": [
      "Path to dataset files: /home/anarres-native/.cache/kagglehub/datasets/chrisfilo/urbansound8k/versions/1\n"
     ]
    }
   ],
   "source": [
    "import kagglehub\n",
    "\n",
    "# Download latest version\n",
    "path = kagglehub.dataset_download(\"chrisfilo/urbansound8k\")\n",
    "\n",
    "print(\"Path to dataset files:\", path)"
   ]
  }
 ],
 "metadata": {
  "kernelspec": {
   "display_name": "venv",
   "language": "python",
   "name": "python3"
  },
  "language_info": {
   "codemirror_mode": {
    "name": "ipython",
    "version": 3
   },
   "file_extension": ".py",
   "mimetype": "text/x-python",
   "name": "python",
   "nbconvert_exporter": "python",
   "pygments_lexer": "ipython3",
   "version": "3.12.3"
  }
 },
 "nbformat": 4,
 "nbformat_minor": 2
}
